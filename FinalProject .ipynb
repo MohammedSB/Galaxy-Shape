{
  "cells": [
    {
      "cell_type": "code",
      "source": [
        "pip install ray"
      ],
      "metadata": {
        "id": "cpXAR7UNX5Gj"
      },
      "execution_count": null,
      "outputs": []
    },
    {
      "cell_type": "code",
      "execution_count": 14,
      "metadata": {
        "id": "LJ92ck4WOPNx"
      },
      "outputs": [],
      "source": [
        "import pandas as pd\n",
        "import numpy as np\n",
        "import torch\n",
        "import matplotlib.pyplot as plt\n",
        "from astropy.io import fits\n",
        "import os\n",
        "import shutil\n",
        "\n",
        "from functools import partial\n",
        "import torch\n",
        "import torch.nn as nn\n",
        "import torch.nn.functional as F\n",
        "import torch.optim as optim\n",
        "from torch.utils.data import random_split\n",
        "import torchvision\n",
        "import torchvision.transforms as transforms\n",
        "from ray import tune\n",
        "from ray.tune import CLIReporter\n",
        "from ray.tune.schedulers import ASHAScheduler"
      ]
    },
    {
      "cell_type": "code",
      "source": [
        "from google.colab import drive\n",
        "drive.mount('/content/drive', force_remount=True)"
      ],
      "metadata": {
        "id": "NKMlonJpoGlY",
        "colab": {
          "base_uri": "https://localhost:8080/"
        },
        "outputId": "38a48443-7f28-4736-c39f-c8afecac4ca3"
      },
      "execution_count": 15,
      "outputs": [
        {
          "output_type": "stream",
          "name": "stdout",
          "text": [
            "Mounted at /content/drive\n"
          ]
        }
      ]
    },
    {
      "cell_type": "code",
      "execution_count": null,
      "metadata": {
        "id": "gQNYXoYUOPNz"
      },
      "outputs": [],
      "source": [
        "def folder_split(train, test, dir_exist = True, curr_path = \"C:/Users/user/Desktop/T5/project/images_gz2/images\",\n",
        "                 train_name = \"train_data\", test_name = \"test_data\", parent_dir = \"C:/Users/user/Desktop/T5/project\"):\n",
        "    \n",
        "    try:\n",
        "        if dir_exist == False:\n",
        "            path_train = os.path.join(parent_dir, train_name)\n",
        "            os.mkdir(path_train)\n",
        "            classes = [x[1] for x in train]\n",
        "            for unique in set(classes):\n",
        "                os.mkdir(path_train + \"/{}\".format(unique))\n",
        "\n",
        "            path_test = os.path.join(parent_dir, test_name)\n",
        "            os.mkdir(path_test)\n",
        "            classes = [x[1] for x in test]\n",
        "            for unique in set(classes):\n",
        "                os.mkdir(path_test + \"/{}\".format(unique))\n",
        "    except:\n",
        "        raise(\"File name already exists\")\n",
        "    \n",
        "    for obsrv in train:\n",
        "        img, shape = obsrv[0], obsrv[1]\n",
        "        shutil.copyfile(\"{}/{}.jpg\".format(curr_path, img), \"{}/{}/{}/{}.jpg\".format(parent_dir, train_name, shape, img))\n",
        "    for obsrv in test:\n",
        "        img, shape = obsrv[0], obsrv[1]\n",
        "        shutil.copyfile(\"{}/{}.jpg\".format(curr_path, img), \"{}/{}/{}/{}.jpg\".format(parent_dir, test_name, shape, img))\n",
        "    "
      ]
    },
    {
      "cell_type": "code",
      "execution_count": null,
      "metadata": {
        "id": "f6ek-5v4OPN0"
      },
      "outputs": [],
      "source": [
        "original_data = pd.read_csv(\"gz2_hart16.csv\")"
      ]
    },
    {
      "cell_type": "code",
      "execution_count": null,
      "metadata": {
        "id": "aRjQ01jvOPN0"
      },
      "outputs": [],
      "source": [
        "# Mapping of every object id to image\n",
        "mapping = pd.read_csv(\"gz2_filename_mapping.csv\")"
      ]
    },
    {
      "cell_type": "code",
      "execution_count": null,
      "metadata": {
        "id": "734FS0mzOPN0"
      },
      "outputs": [],
      "source": [
        "mask = (original_data[\"total_classifications\"] > 38) & (original_data[\"total_votes\"] > 150) & (original_data[\"t11_arms_number_a37_cant_tell_flag\"] == 0)"
      ]
    },
    {
      "cell_type": "code",
      "execution_count": null,
      "metadata": {
        "id": "D2StIY0uOPN1"
      },
      "outputs": [],
      "source": [
        "# Sample and mask the data size to reduce training time\n",
        "data = original_data[mask]\n",
        "#data = original_data.sample(frac = 0.05)"
      ]
    },
    {
      "cell_type": "code",
      "execution_count": null,
      "metadata": {
        "scrolled": true,
        "id": "YA41-_9_OPN2"
      },
      "outputs": [],
      "source": [
        "data.reset_index(inplace = True)"
      ]
    },
    {
      "cell_type": "code",
      "execution_count": null,
      "metadata": {
        "id": "DjTiJaI9OPN3"
      },
      "outputs": [],
      "source": [
        "# Delete ids for which no images are available\n",
        "index_remove = []\n",
        "for i in range(len(data[\"dr7objid\"])):\n",
        "    img = mapping[mapping[\"objid\"] == data[\"dr7objid\"].iloc[i]]\n",
        "    img = img.asset_id\n",
        "    if os.path.exists('C:/Users/user/Desktop/T5/project/images_gz2/images/{}.jpg'.format(int(img))):\n",
        "        pass\n",
        "    else:\n",
        "        index_remove.append(i)\n",
        "        \n",
        "for i in index_remove:\n",
        "    data.drop(i, inplace = True)"
      ]
    },
    {
      "cell_type": "code",
      "execution_count": null,
      "metadata": {
        "id": "sSqeyStgOPN3"
      },
      "outputs": [],
      "source": [
        "data.reset_index(inplace = True)"
      ]
    },
    {
      "cell_type": "code",
      "execution_count": null,
      "metadata": {
        "id": "wDG3ZjIUOPN4"
      },
      "outputs": [],
      "source": [
        "def isSpiral(glxy):\n",
        "    if glxy == 'S':\n",
        "        return 1\n",
        "    else:\n",
        "        return 0"
      ]
    },
    {
      "cell_type": "code",
      "execution_count": null,
      "metadata": {
        "id": "1OnTZs8tOPN4",
        "outputId": "2d987435-7a6f-430f-c139-d58a565c9650"
      },
      "outputs": [
        {
          "name": "stderr",
          "output_type": "stream",
          "text": [
            "<ipython-input-130-50228fbe4476>:6: SettingWithCopyWarning: \n",
            "A value is trying to be set on a copy of a slice from a DataFrame\n",
            "\n",
            "See the caveats in the documentation: https://pandas.pydata.org/pandas-docs/stable/user_guide/indexing.html#returning-a-view-versus-a-copy\n",
            "  data[\"gz2_class\"][i] = \"E\"\n",
            "<ipython-input-130-50228fbe4476>:4: SettingWithCopyWarning: \n",
            "A value is trying to be set on a copy of a slice from a DataFrame\n",
            "\n",
            "See the caveats in the documentation: https://pandas.pydata.org/pandas-docs/stable/user_guide/indexing.html#returning-a-view-versus-a-copy\n",
            "  data[\"gz2_class\"][i] = \"S\"\n"
          ]
        }
      ],
      "source": [
        "# Split the galaxies into Spiral and Elliptical only\n",
        "for i in range(len(data[\"gz2_class\"])):\n",
        "    if \"S\" in data[\"gz2_class\"][i]:\n",
        "        data[\"gz2_class\"][i] = \"S\"\n",
        "    if \"E\" in data[\"gz2_class\"][i]:\n",
        "        data[\"gz2_class\"][i] = \"E\"\n",
        "        \n",
        "i = data[data[\"gz2_class\"] == 'A'].index\n",
        "data = data.drop(i)\n",
        "\n",
        "# Make the target column\n",
        "data[\"Spiral\"] = data[\"gz2_class\"].apply(isSpiral)"
      ]
    },
    {
      "cell_type": "code",
      "execution_count": null,
      "metadata": {
        "id": "AEk4XSyyOPN4"
      },
      "outputs": [],
      "source": [
        " # Segment the data \n",
        "data_seg = data[[\"dr7objid\", \"Spiral\"]].reset_index()\n",
        "data_seg.drop(\"index\", axis=1, inplace = True)"
      ]
    },
    {
      "cell_type": "code",
      "execution_count": null,
      "metadata": {
        "id": "-KUIrY0MOPN5"
      },
      "outputs": [],
      "source": [
        "# Plot Elliptical/Spiral split\n",
        "plt.bar([\"Spiral\", \"Elliptical\"], [data_seg[\"Spiral\"].sum(), data_seg[data_seg[\"Spiral\"] == 0].shape[0]], color = (0.2, 0.4, 0.6, 0.6))\n",
        "plt.title(\"Elliptical/Spiral split\")\n",
        "plt.ylabel(\"number of occurrences\")"
      ]
    },
    {
      "cell_type": "code",
      "execution_count": null,
      "metadata": {
        "id": "e2pPcfUgOPN5"
      },
      "outputs": [],
      "source": [
        "# 53% are spiral, 47% are Elliptical\n",
        "data_seg[\"Spiral\"].sum() / (data_seg[\"Spiral\"].sum() + data_seg[data_seg[\"Spiral\"] == 0].shape[0])"
      ]
    },
    {
      "cell_type": "code",
      "execution_count": null,
      "metadata": {
        "id": "G4foejuiOPN5"
      },
      "outputs": [],
      "source": [
        "data_seg.reset_index(inplace = True)"
      ]
    },
    {
      "cell_type": "code",
      "execution_count": null,
      "metadata": {
        "id": "t_S1NEdgOPN5"
      },
      "outputs": [],
      "source": [
        "data_seg.drop(\"index\", axis=1, inplace = True)"
      ]
    },
    {
      "cell_type": "code",
      "execution_count": null,
      "metadata": {
        "id": "3ACI9PpNOPN5"
      },
      "outputs": [],
      "source": [
        "training_data = data_seg.sample(frac=0.8, random_state=25)\n",
        "testing_data = data_seg.drop(training_data.index)"
      ]
    },
    {
      "cell_type": "code",
      "execution_count": null,
      "metadata": {
        "id": "72K1PAkwOPN6"
      },
      "outputs": [],
      "source": [
        "def get_img_id(obj_ids, classes, mapping):\n",
        "    #img_id, glxy_classes = [], []\n",
        "    img_and_class = []\n",
        "    for i in range(len(obj_ids)):\n",
        "        #glxy_classes.append(classes.iloc[i]) \n",
        "        img = mapping[mapping[\"objid\"] == obj_ids.iloc[i]].asset_id\n",
        "        #img_id.append(int(img))\n",
        "        tupled = (int(img), classes.iloc[i])\n",
        "        img_and_class.append(tupled)\n",
        "        #if len(img) > 1:\n",
        "        #    for j in img:\n",
        "        # img_id.append(int(j))\n",
        "        #else:\n",
        "    return img_and_class"
      ]
    },
    {
      "cell_type": "code",
      "execution_count": null,
      "metadata": {
        "id": "bIwo2umxOPN6"
      },
      "outputs": [],
      "source": [
        "training_img = get_img_id(training_data[\"dr7objid\"], training_data[\"Spiral\"], mapping)\n",
        "testing_img = get_img_id(testing_data[\"dr7objid\"], testing_data[\"Spiral\"], mapping)"
      ]
    },
    {
      "cell_type": "code",
      "execution_count": null,
      "metadata": {
        "id": "a0ee3dvCOPN6",
        "outputId": "b2f35c95-91a4-4c2d-e045-d9fd69e8c31b"
      },
      "outputs": [
        {
          "data": {
            "text/plain": [
              "[(24630, 0), (270100, 1), (237220, 0), (70927, 0), (221792, 1)]"
            ]
          },
          "execution_count": 140,
          "metadata": {},
          "output_type": "execute_result"
        }
      ],
      "source": [
        "training_img[:5]"
      ]
    },
    {
      "cell_type": "code",
      "execution_count": null,
      "metadata": {
        "id": "nT-0USL5OPN6"
      },
      "outputs": [],
      "source": [
        "# create the train/test files \n",
        "folder_split(training_img, testing_img, dir_exist = False)"
      ]
    },
    {
      "cell_type": "code",
      "execution_count": 24,
      "metadata": {
        "id": "1qByEMOdOPN6"
      },
      "outputs": [],
      "source": [
        "from torchvision.datasets import ImageFolder\n",
        "import torchvision.transforms as T\n",
        "\n",
        "def load_data():\n",
        "\n",
        "  transform = T.Compose([T.ToTensor()\n",
        "                        ,T.Resize((224,224))\n",
        "                        ])\n",
        "  test_set = ImageFolder(root = \"/content/drive/MyDrive/data/t5_project/test_data\", transform = transform)\n",
        "  train_set = ImageFolder(root = \"/content/drive/MyDrive/data/t5_project/train_data\", transform = transform)\n",
        "  return train_set, test_set "
      ]
    },
    {
      "cell_type": "code",
      "execution_count": 214,
      "metadata": {
        "id": "6SqxL2vxOPN7"
      },
      "outputs": [],
      "source": [
        "from torch.utils.data import DataLoader\n",
        "\n",
        "def data_loader(train_set, test_set, batch_size = 32):\n",
        "  train_loader = DataLoader(\n",
        "      train_set,\n",
        "      batch_size,\n",
        "      shuffle=True,  \n",
        "      num_workers = 2,\n",
        "      pin_memory=True,  \n",
        "  )\n",
        "  test_loader = DataLoader(test_set, batch_size, pin_memory=True, num_workers = 2, shuffle = True)\n",
        "  return train_loader, test_loader"
      ]
    },
    {
      "cell_type": "code",
      "source": [
        "import math\n",
        "\n",
        "def binary_logits_prediction(logit):\n",
        "  sig = 1/(1 + np.exp(-logit))\n",
        "  if sig >= 0.5:\n",
        "    return 1\n",
        "  else:\n",
        "    return 0"
      ],
      "metadata": {
        "id": "-nmGKgNBsoEb"
      },
      "execution_count": 30,
      "outputs": []
    },
    {
      "cell_type": "code",
      "source": [
        "import torch.nn.functional as F\n",
        "from sklearn.metrics import precision_score, recall_score\n",
        "from tqdm import tqdm\n",
        "\n",
        "def one_epoch(dataloader, model, device, optimizer=None):\n",
        "    # see if we are in training or evaluation mode\n",
        "    metrics = dict()\n",
        "    model.train(optimizer is not None)\n",
        "    count = avg_loss = correct = 0\n",
        "    precision, recall = 0, 0\n",
        "    with torch.set_grad_enabled(model.training):\n",
        "        for images, labels in tqdm(dataloader, desc=\"Batch in Progress\", ascii=False, ncols = 100):\n",
        "            images, labels = images.to(device), labels.to(device)\n",
        "\n",
        "            # forward pass\n",
        "            logits = model(images)\n",
        "            labels = labels.float()\n",
        "            loss = F.binary_cross_entropy_with_logits(logits, labels.unsqueeze(1))\n",
        "            \n",
        "            # backward pass\n",
        "            if model.training:\n",
        "              loss.backward()\n",
        "              optimizer.step()\n",
        "              optimizer.zero_grad(set_to_none=True)\n",
        "\n",
        "            # bookkeeping\n",
        "            count += len(images)\n",
        "            avg_loss += loss.detach() * len(images)\n",
        "            #accuracy += (logits.detach().argmax(dim=1) == labels).sum()\n",
        "            #print(logits.detach().argmax(dim = 1))\n",
        "            sig = map(binary_logits_prediction, logits.to('cpu').detach())\n",
        "            sig = torch.tensor(list(sig), device = device)\n",
        "            #sig = logits.detach().apply_(binary_logits_prediction)\n",
        "            correct += (sig == labels).sum()\n",
        "            sig = sig.cpu()\n",
        "            labels = labels.cpu()\n",
        "            precision += precision_score(labels.float(), sig.float())\n",
        "            recall += recall_score(labels.float(), sig.float())\n",
        "    metrics[\"Average Loss\"] = (avg_loss.item() / len(dataloader))\n",
        "    metrics[\"Correct\"] = correct.item()\n",
        "    metrics[\"Accuracy\"] = (correct.item() / count)\n",
        "    metrics[\"Precision\"] = precision.item() / len(dataloader)\n",
        "    metrics[\"Recall\"] = recall.item() / len(dataloader)\n",
        "    metrics[\"Size\"] = count\n",
        "    # avg_loss = avg_loss.item() / count\n",
        "    # accuracy = accuracy.item() / count\n",
        "    return metrics"
      ],
      "metadata": {
        "id": "1szfqIWSU2ud"
      },
      "execution_count": 219,
      "outputs": []
    },
    {
      "cell_type": "code",
      "execution_count": 34,
      "metadata": {
        "id": "DZDLwg0DOPN7"
      },
      "outputs": [],
      "source": [
        "from torch import nn\n",
        "from torchvision.models import resnet18, mobilenet_v2\n",
        "\n",
        "def getModel():\n",
        "  model = nn.Sequential(\n",
        "    nn.Conv2d(in_channels=3, out_channels=32, kernel_size=3, padding=1),\n",
        "    nn.ReLU(inplace=True),\n",
        "    # Pooling\n",
        "    nn.Conv2d(in_channels=32, out_channels=32, kernel_size=3, stride = 2),\n",
        "    #nn.MaxPool2d(kernel_size=2, stride=2),\n",
        "\n",
        "    nn.Conv2d(in_channels=32, out_channels=64, kernel_size=3, padding=1),\n",
        "    nn.ReLU(inplace=True),\n",
        "    nn.Conv2d(in_channels=64, out_channels=128, kernel_size=3, padding=1),\n",
        "    # Pooling\n",
        "    nn.Conv2d(in_channels=128, out_channels=128, kernel_size=3, stride = 2),\n",
        "    #nn.MaxPool2d(kernel_size=2, stride=2),\n",
        "\n",
        "    nn.Conv2d(in_channels=128, out_channels=256, kernel_size=3, padding=1),\n",
        "    nn.ReLU(inplace=True),\n",
        "    nn.AdaptiveAvgPool2d(output_size=1),\n",
        "\n",
        "    nn.Flatten(),\n",
        "    nn.Linear(in_features=256, out_features=64),\n",
        "    nn.Dropout(inplace = True, p = 0.2),\n",
        "    nn.ReLU(inplace=True),\n",
        "    nn.Linear(in_features=64, out_features=16),\n",
        "    nn.ReLU(inplace=True),\n",
        "    nn.Linear(in_features=16, out_features=1),\n",
        "  )\n",
        "  return model"
      ]
    },
    {
      "cell_type": "code",
      "execution_count": 185,
      "metadata": {
        "id": "Bpqo9sdXOPN8"
      },
      "outputs": [],
      "source": [
        "def train(model, optimizer, train_loader, val_loader, device, epochs):\n",
        "    print(\"Beginning Training: \\n\")\n",
        "    metrics_train, metrics_val = dict(), dict()\n",
        "    metrics = dict()\n",
        "    for epoch in range(1, epochs + 1):\n",
        "      print(f'Epoch {epoch}/{epochs}')\n",
        "      metrics = one_epoch(val_loader, model, device)\n",
        "      print(f'Train Set: \\nLoss: {(metrics[\"Average Loss\"] / metrics[\"Size\"]):>8f}, Accuracy: {(metrics[\"Correct\"] / metrics[\"Size\"]) * 100:>0.2f}%, Correct Counter: {metrics[\"Correct\"]}/{metrics[\"Size\"]}, Precision:{metrics[\"Precision\"]*100: 0.2f}%, Recall: {metrics[\"Recall\"] * 100: 0.2f}% \\n')\n",
        "      metrics_train[epoch] = metrics\n",
        "      metrics = one_epoch(val_loader, model, device)\n",
        "      print(f'Validation Set: \\nLoss: {(metrics[\"Average Loss\"] / metrics[\"Size\"]):>8f}, Accuracy: {(metrics[\"Correct\"] / metrics[\"Size\"]) * 100:>0.2f}%, Correct Counter: {metrics[\"Correct\"]}/{metrics[\"Size\"]}, Precision:{metrics[\"Precision\"]*100: 0.2f}%, Recall: {metrics[\"Recall\"] * 100: 0.2f}% \\n')\n",
        "      metrics_val[epoch] = metrics\n",
        "    print(\"Train Metrics: \", metrics_train)\n",
        "    print(\"Validation Metrics\", metrics_val)\n",
        "    return metrics_train #metrics_val\n"
      ]
    },
    {
      "cell_type": "code",
      "source": [
        "def test(model, test_loader, device):\n",
        "  metrics = dict()\n",
        "  \n",
        "  metrics = one_epoch(test_loader, model, device)\n",
        "  #print(metrics)\n",
        "  return metrics"
      ],
      "metadata": {
        "id": "YhNtxbKd58Fa"
      },
      "execution_count": 162,
      "outputs": []
    },
    {
      "cell_type": "code",
      "source": [
        "train_set, test_set = load_data()\n",
        "\n",
        "test_abs = int(len(train_set) * 0.8)\n",
        "\n",
        "train_subset, val_subset = random_split(\n",
        "train_set, [test_abs, len(train_set) - test_abs])\n",
        "train_loader, val_loader = data_loader(train_subset, val_subset, 32)\n",
        "train_loader, test_loader = data_loader(train_set, test_set, 32)"
      ],
      "metadata": {
        "id": "Kn8nNsDy9dau"
      },
      "execution_count": 215,
      "outputs": []
    },
    {
      "cell_type": "code",
      "source": [
        "model = getModel()"
      ],
      "metadata": {
        "id": "ilbm_GW--t8Z"
      },
      "execution_count": 141,
      "outputs": []
    },
    {
      "cell_type": "code",
      "source": [
        "epoch = 20\n",
        "device = 'cuda'\n",
        "\n",
        "optimizer = torch.optim.Adam(model.to(device).parameters())\n",
        "metrics = train(model, optimizer, train_loader, val_loader, device, epoch)"
      ],
      "metadata": {
        "colab": {
          "base_uri": "https://localhost:8080/"
        },
        "id": "nOLqXRpH9D9X",
        "outputId": "6d668362-c5f6-4247-a370-7078e6d635e6"
      },
      "execution_count": 143,
      "outputs": [
        {
          "output_type": "stream",
          "name": "stdout",
          "text": [
            "Beginning Training: \n",
            "\n",
            "Epoch 1/20\n"
          ]
        },
        {
          "output_type": "stream",
          "name": "stderr",
          "text": [
            "Batch in Progress: 100%|████████████████████████████████████████| 1530/1530 [03:30<00:00,  7.25it/s]\n"
          ]
        },
        {
          "output_type": "stream",
          "name": "stdout",
          "text": [
            "Train Set: \n",
            "Loss: 0.000012, Accuracy: 67.13%, Correct Counter: 32853/48942, Precision: 70.12%, Recall:  72.27% \n",
            "\n"
          ]
        },
        {
          "output_type": "stream",
          "name": "stderr",
          "text": [
            "Batch in Progress: 100%|██████████████████████████████████████████| 383/383 [01:15<00:00,  5.07it/s]\n"
          ]
        },
        {
          "output_type": "stream",
          "name": "stdout",
          "text": [
            "Validation Set: \n",
            "Loss: 0.000046, Accuracy: 71.59%, Correct Counter: 8760/12236, Precision: 73.60%, Recall:  72.71% \n",
            "\n",
            "Epoch 2/20\n"
          ]
        },
        {
          "output_type": "stream",
          "name": "stderr",
          "text": [
            "Batch in Progress: 100%|████████████████████████████████████████| 1530/1530 [03:23<00:00,  7.50it/s]\n"
          ]
        },
        {
          "output_type": "stream",
          "name": "stdout",
          "text": [
            "Train Set: \n",
            "Loss: 0.000012, Accuracy: 70.84%, Correct Counter: 34669/48942, Precision: 74.12%, Recall:  69.84% \n",
            "\n"
          ]
        },
        {
          "output_type": "stream",
          "name": "stderr",
          "text": [
            "Batch in Progress: 100%|██████████████████████████████████████████| 383/383 [01:15<00:00,  5.06it/s]\n"
          ]
        },
        {
          "output_type": "stream",
          "name": "stdout",
          "text": [
            "Validation Set: \n",
            "Loss: 0.000045, Accuracy: 72.07%, Correct Counter: 8819/12236, Precision: 74.99%, Recall:  70.88% \n",
            "\n",
            "Epoch 3/20\n"
          ]
        },
        {
          "output_type": "stream",
          "name": "stderr",
          "text": [
            "Batch in Progress: 100%|████████████████████████████████████████| 1530/1530 [03:22<00:00,  7.55it/s]\n"
          ]
        },
        {
          "output_type": "stream",
          "name": "stdout",
          "text": [
            "Train Set: \n",
            "Loss: 0.000012, Accuracy: 71.35%, Correct Counter: 34921/48942, Precision: 74.67%, Recall:  70.17% \n",
            "\n"
          ]
        },
        {
          "output_type": "stream",
          "name": "stderr",
          "text": [
            "Batch in Progress: 100%|██████████████████████████████████████████| 383/383 [01:15<00:00,  5.05it/s]\n"
          ]
        },
        {
          "output_type": "stream",
          "name": "stdout",
          "text": [
            "Validation Set: \n",
            "Loss: 0.000049, Accuracy: 68.03%, Correct Counter: 8324/12236, Precision: 85.05%, Recall:  48.45% \n",
            "\n",
            "Epoch 4/20\n"
          ]
        },
        {
          "output_type": "stream",
          "name": "stderr",
          "text": [
            "Batch in Progress: 100%|████████████████████████████████████████| 1530/1530 [03:22<00:00,  7.54it/s]\n"
          ]
        },
        {
          "output_type": "stream",
          "name": "stdout",
          "text": [
            "Train Set: \n",
            "Loss: 0.000011, Accuracy: 71.88%, Correct Counter: 35179/48942, Precision: 75.62%, Recall:  70.12% \n",
            "\n"
          ]
        },
        {
          "output_type": "stream",
          "name": "stderr",
          "text": [
            "Batch in Progress: 100%|██████████████████████████████████████████| 383/383 [01:16<00:00,  5.04it/s]\n"
          ]
        },
        {
          "output_type": "stream",
          "name": "stdout",
          "text": [
            "Validation Set: \n",
            "Loss: 0.000046, Accuracy: 72.10%, Correct Counter: 8822/12236, Precision: 71.32%, Recall:  79.65% \n",
            "\n",
            "Epoch 5/20\n"
          ]
        },
        {
          "output_type": "stream",
          "name": "stderr",
          "text": [
            "Batch in Progress: 100%|████████████████████████████████████████| 1530/1530 [03:23<00:00,  7.52it/s]\n"
          ]
        },
        {
          "output_type": "stream",
          "name": "stdout",
          "text": [
            "Train Set: \n",
            "Loss: 0.000011, Accuracy: 72.93%, Correct Counter: 35693/48942, Precision: 76.75%, Recall:  70.72% \n",
            "\n"
          ]
        },
        {
          "output_type": "stream",
          "name": "stderr",
          "text": [
            "Batch in Progress: 100%|██████████████████████████████████████████| 383/383 [01:15<00:00,  5.04it/s]\n"
          ]
        },
        {
          "output_type": "stream",
          "name": "stdout",
          "text": [
            "Validation Set: \n",
            "Loss: 0.000043, Accuracy: 73.33%, Correct Counter: 8973/12236, Precision: 73.29%, Recall:  78.28% \n",
            "\n",
            "Epoch 6/20\n"
          ]
        },
        {
          "output_type": "stream",
          "name": "stderr",
          "text": [
            "Batch in Progress: 100%|████████████████████████████████████████| 1530/1530 [03:21<00:00,  7.59it/s]\n"
          ]
        },
        {
          "output_type": "stream",
          "name": "stdout",
          "text": [
            "Train Set: \n",
            "Loss: 0.000011, Accuracy: 73.44%, Correct Counter: 35941/48942, Precision: 77.25%, Recall:  71.17% \n",
            "\n"
          ]
        },
        {
          "output_type": "stream",
          "name": "stderr",
          "text": [
            "Batch in Progress: 100%|██████████████████████████████████████████| 383/383 [01:15<00:00,  5.08it/s]\n"
          ]
        },
        {
          "output_type": "stream",
          "name": "stdout",
          "text": [
            "Validation Set: \n",
            "Loss: 0.000042, Accuracy: 74.33%, Correct Counter: 9095/12236, Precision: 77.99%, Recall:  72.11% \n",
            "\n",
            "Epoch 7/20\n"
          ]
        },
        {
          "output_type": "stream",
          "name": "stderr",
          "text": [
            "Batch in Progress: 100%|████████████████████████████████████████| 1530/1530 [03:22<00:00,  7.56it/s]\n"
          ]
        },
        {
          "output_type": "stream",
          "name": "stdout",
          "text": [
            "Train Set: \n",
            "Loss: 0.000011, Accuracy: 73.88%, Correct Counter: 36160/48942, Precision: 77.86%, Recall:  71.52% \n",
            "\n"
          ]
        },
        {
          "output_type": "stream",
          "name": "stderr",
          "text": [
            "Batch in Progress: 100%|██████████████████████████████████████████| 383/383 [01:15<00:00,  5.09it/s]\n"
          ]
        },
        {
          "output_type": "stream",
          "name": "stdout",
          "text": [
            "Validation Set: \n",
            "Loss: 0.000043, Accuracy: 74.28%, Correct Counter: 9089/12236, Precision: 81.91%, Recall:  66.21% \n",
            "\n",
            "Epoch 8/20\n"
          ]
        },
        {
          "output_type": "stream",
          "name": "stderr",
          "text": [
            "Batch in Progress: 100%|████████████████████████████████████████| 1530/1530 [03:23<00:00,  7.53it/s]\n"
          ]
        },
        {
          "output_type": "stream",
          "name": "stdout",
          "text": [
            "Train Set: \n",
            "Loss: 0.000011, Accuracy: 74.08%, Correct Counter: 36254/48942, Precision: 77.87%, Recall:  71.78% \n",
            "\n"
          ]
        },
        {
          "output_type": "stream",
          "name": "stderr",
          "text": [
            "Batch in Progress: 100%|██████████████████████████████████████████| 383/383 [01:15<00:00,  5.08it/s]\n"
          ]
        },
        {
          "output_type": "stream",
          "name": "stdout",
          "text": [
            "Validation Set: \n",
            "Loss: 0.000042, Accuracy: 74.83%, Correct Counter: 9156/12236, Precision: 78.77%, Recall:  71.93% \n",
            "\n",
            "Epoch 9/20\n"
          ]
        },
        {
          "output_type": "stream",
          "name": "stderr",
          "text": [
            "Batch in Progress: 100%|████████████████████████████████████████| 1530/1530 [03:22<00:00,  7.54it/s]\n"
          ]
        },
        {
          "output_type": "stream",
          "name": "stdout",
          "text": [
            "Train Set: \n",
            "Loss: 0.000011, Accuracy: 74.24%, Correct Counter: 36335/48942, Precision: 78.07%, Recall:  71.80% \n",
            "\n"
          ]
        },
        {
          "output_type": "stream",
          "name": "stderr",
          "text": [
            "Batch in Progress: 100%|██████████████████████████████████████████| 383/383 [01:16<00:00,  5.03it/s]\n"
          ]
        },
        {
          "output_type": "stream",
          "name": "stdout",
          "text": [
            "Validation Set: \n",
            "Loss: 0.000041, Accuracy: 75.29%, Correct Counter: 9212/12236, Precision: 78.78%, Recall:  73.20% \n",
            "\n",
            "Epoch 10/20\n"
          ]
        },
        {
          "output_type": "stream",
          "name": "stderr",
          "text": [
            "Batch in Progress: 100%|████████████████████████████████████████| 1530/1530 [03:21<00:00,  7.59it/s]\n"
          ]
        },
        {
          "output_type": "stream",
          "name": "stdout",
          "text": [
            "Train Set: \n",
            "Loss: 0.000011, Accuracy: 74.52%, Correct Counter: 36470/48942, Precision: 78.37%, Recall:  71.89% \n",
            "\n"
          ]
        },
        {
          "output_type": "stream",
          "name": "stderr",
          "text": [
            "Batch in Progress: 100%|██████████████████████████████████████████| 383/383 [01:15<00:00,  5.07it/s]\n"
          ]
        },
        {
          "output_type": "stream",
          "name": "stdout",
          "text": [
            "Validation Set: \n",
            "Loss: 0.000042, Accuracy: 74.79%, Correct Counter: 9151/12236, Precision: 77.46%, Recall:  73.85% \n",
            "\n",
            "Epoch 11/20\n"
          ]
        },
        {
          "output_type": "stream",
          "name": "stderr",
          "text": [
            "Batch in Progress: 100%|████████████████████████████████████████| 1530/1530 [03:24<00:00,  7.49it/s]\n"
          ]
        },
        {
          "output_type": "stream",
          "name": "stdout",
          "text": [
            "Train Set: \n",
            "Loss: 0.000010, Accuracy: 74.68%, Correct Counter: 36551/48942, Precision: 78.57%, Recall:  72.35% \n",
            "\n"
          ]
        },
        {
          "output_type": "stream",
          "name": "stderr",
          "text": [
            "Batch in Progress: 100%|██████████████████████████████████████████| 383/383 [01:15<00:00,  5.08it/s]\n"
          ]
        },
        {
          "output_type": "stream",
          "name": "stdout",
          "text": [
            "Validation Set: \n",
            "Loss: 0.000041, Accuracy: 74.77%, Correct Counter: 9149/12236, Precision: 78.27%, Recall:  72.89% \n",
            "\n",
            "Epoch 12/20\n"
          ]
        },
        {
          "output_type": "stream",
          "name": "stderr",
          "text": [
            "Batch in Progress: 100%|████████████████████████████████████████| 1530/1530 [03:21<00:00,  7.60it/s]\n"
          ]
        },
        {
          "output_type": "stream",
          "name": "stdout",
          "text": [
            "Train Set: \n",
            "Loss: 0.000010, Accuracy: 75.22%, Correct Counter: 36813/48942, Precision: 79.02%, Recall:  72.93% \n",
            "\n"
          ]
        },
        {
          "output_type": "stream",
          "name": "stderr",
          "text": [
            "Batch in Progress: 100%|██████████████████████████████████████████| 383/383 [01:15<00:00,  5.08it/s]\n"
          ]
        },
        {
          "output_type": "stream",
          "name": "stdout",
          "text": [
            "Validation Set: \n",
            "Loss: 0.000043, Accuracy: 74.73%, Correct Counter: 9144/12236, Precision: 73.37%, Recall:  82.14% \n",
            "\n",
            "Epoch 13/20\n"
          ]
        },
        {
          "output_type": "stream",
          "name": "stderr",
          "text": [
            "Batch in Progress: 100%|████████████████████████████████████████| 1530/1530 [03:21<00:00,  7.60it/s]\n"
          ]
        },
        {
          "output_type": "stream",
          "name": "stdout",
          "text": [
            "Train Set: \n",
            "Loss: 0.000010, Accuracy: 75.23%, Correct Counter: 36821/48942, Precision: 79.27%, Recall:  72.50% \n",
            "\n"
          ]
        },
        {
          "output_type": "stream",
          "name": "stderr",
          "text": [
            "Batch in Progress: 100%|██████████████████████████████████████████| 383/383 [01:16<00:00,  5.02it/s]\n"
          ]
        },
        {
          "output_type": "stream",
          "name": "stdout",
          "text": [
            "Validation Set: \n",
            "Loss: 0.000041, Accuracy: 75.34%, Correct Counter: 9219/12236, Precision: 83.52%, Recall:  66.81% \n",
            "\n",
            "Epoch 14/20\n"
          ]
        },
        {
          "output_type": "stream",
          "name": "stderr",
          "text": [
            "Batch in Progress: 100%|████████████████████████████████████████| 1530/1530 [03:21<00:00,  7.59it/s]\n"
          ]
        },
        {
          "output_type": "stream",
          "name": "stdout",
          "text": [
            "Train Set: \n",
            "Loss: 0.000010, Accuracy: 75.30%, Correct Counter: 36855/48942, Precision: 79.02%, Recall:  73.01% \n",
            "\n"
          ]
        },
        {
          "output_type": "stream",
          "name": "stderr",
          "text": [
            "Batch in Progress: 100%|██████████████████████████████████████████| 383/383 [01:16<00:00,  5.04it/s]\n"
          ]
        },
        {
          "output_type": "stream",
          "name": "stdout",
          "text": [
            "Validation Set: \n",
            "Loss: 0.000042, Accuracy: 75.07%, Correct Counter: 9185/12236, Precision: 75.60%, Recall:  78.42% \n",
            "\n",
            "Epoch 15/20\n"
          ]
        },
        {
          "output_type": "stream",
          "name": "stderr",
          "text": [
            "Batch in Progress: 100%|████████████████████████████████████████| 1530/1530 [03:21<00:00,  7.58it/s]\n"
          ]
        },
        {
          "output_type": "stream",
          "name": "stdout",
          "text": [
            "Train Set: \n",
            "Loss: 0.000010, Accuracy: 75.72%, Correct Counter: 37057/48942, Precision: 79.10%, Recall:  74.00% \n",
            "\n"
          ]
        },
        {
          "output_type": "stream",
          "name": "stderr",
          "text": [
            "Batch in Progress: 100%|██████████████████████████████████████████| 383/383 [01:15<00:00,  5.07it/s]\n"
          ]
        },
        {
          "output_type": "stream",
          "name": "stdout",
          "text": [
            "Validation Set: \n",
            "Loss: 0.000040, Accuracy: 75.81%, Correct Counter: 9276/12236, Precision: 75.02%, Recall:  81.44% \n",
            "\n",
            "Epoch 16/20\n"
          ]
        },
        {
          "output_type": "stream",
          "name": "stderr",
          "text": [
            "Batch in Progress: 100%|████████████████████████████████████████| 1530/1530 [03:22<00:00,  7.57it/s]\n"
          ]
        },
        {
          "output_type": "stream",
          "name": "stdout",
          "text": [
            "Train Set: \n",
            "Loss: 0.000010, Accuracy: 76.16%, Correct Counter: 37273/48942, Precision: 79.74%, Recall:  74.10% \n",
            "\n"
          ]
        },
        {
          "output_type": "stream",
          "name": "stderr",
          "text": [
            "Batch in Progress: 100%|██████████████████████████████████████████| 383/383 [01:14<00:00,  5.12it/s]\n"
          ]
        },
        {
          "output_type": "stream",
          "name": "stdout",
          "text": [
            "Validation Set: \n",
            "Loss: 0.000040, Accuracy: 75.97%, Correct Counter: 9296/12236, Precision: 77.56%, Recall:  77.07% \n",
            "\n",
            "Epoch 17/20\n"
          ]
        },
        {
          "output_type": "stream",
          "name": "stderr",
          "text": [
            "Batch in Progress: 100%|████████████████████████████████████████| 1530/1530 [03:21<00:00,  7.59it/s]\n"
          ]
        },
        {
          "output_type": "stream",
          "name": "stdout",
          "text": [
            "Train Set: \n",
            "Loss: 0.000010, Accuracy: 76.52%, Correct Counter: 37450/48942, Precision: 79.88%, Recall:  75.00% \n",
            "\n"
          ]
        },
        {
          "output_type": "stream",
          "name": "stderr",
          "text": [
            "Batch in Progress: 100%|██████████████████████████████████████████| 383/383 [01:15<00:00,  5.10it/s]\n"
          ]
        },
        {
          "output_type": "stream",
          "name": "stdout",
          "text": [
            "Validation Set: \n",
            "Loss: 0.000040, Accuracy: 76.81%, Correct Counter: 9399/12236, Precision: 80.55%, Recall:  74.43% \n",
            "\n",
            "Epoch 18/20\n"
          ]
        },
        {
          "output_type": "stream",
          "name": "stderr",
          "text": [
            "Batch in Progress: 100%|████████████████████████████████████████| 1530/1530 [03:23<00:00,  7.53it/s]\n"
          ]
        },
        {
          "output_type": "stream",
          "name": "stdout",
          "text": [
            "Train Set: \n",
            "Loss: 0.000010, Accuracy: 76.52%, Correct Counter: 37452/48942, Precision: 79.89%, Recall:  74.78% \n",
            "\n"
          ]
        },
        {
          "output_type": "stream",
          "name": "stderr",
          "text": [
            "Batch in Progress: 100%|██████████████████████████████████████████| 383/383 [01:15<00:00,  5.08it/s]\n"
          ]
        },
        {
          "output_type": "stream",
          "name": "stdout",
          "text": [
            "Validation Set: \n",
            "Loss: 0.000039, Accuracy: 76.80%, Correct Counter: 9397/12236, Precision: 85.18%, Recall:  68.22% \n",
            "\n",
            "Epoch 19/20\n"
          ]
        },
        {
          "output_type": "stream",
          "name": "stderr",
          "text": [
            "Batch in Progress: 100%|████████████████████████████████████████| 1530/1530 [03:22<00:00,  7.54it/s]\n"
          ]
        },
        {
          "output_type": "stream",
          "name": "stdout",
          "text": [
            "Train Set: \n",
            "Loss: 0.000010, Accuracy: 77.24%, Correct Counter: 37801/48942, Precision: 80.76%, Recall:  74.98% \n",
            "\n"
          ]
        },
        {
          "output_type": "stream",
          "name": "stderr",
          "text": [
            "Batch in Progress: 100%|██████████████████████████████████████████| 383/383 [01:17<00:00,  4.95it/s]\n"
          ]
        },
        {
          "output_type": "stream",
          "name": "stdout",
          "text": [
            "Validation Set: \n",
            "Loss: 0.000039, Accuracy: 77.04%, Correct Counter: 9427/12236, Precision: 83.49%, Recall:  70.96% \n",
            "\n",
            "Epoch 20/20\n"
          ]
        },
        {
          "output_type": "stream",
          "name": "stderr",
          "text": [
            "Batch in Progress: 100%|████████████████████████████████████████| 1530/1530 [03:26<00:00,  7.42it/s]\n"
          ]
        },
        {
          "output_type": "stream",
          "name": "stdout",
          "text": [
            "Train Set: \n",
            "Loss: 0.000010, Accuracy: 77.20%, Correct Counter: 37783/48942, Precision: 80.64%, Recall:  75.29% \n",
            "\n"
          ]
        },
        {
          "output_type": "stream",
          "name": "stderr",
          "text": [
            "Batch in Progress: 100%|██████████████████████████████████████████| 383/383 [01:16<00:00,  5.01it/s]"
          ]
        },
        {
          "output_type": "stream",
          "name": "stdout",
          "text": [
            "Validation Set: \n",
            "Loss: 0.000038, Accuracy: 77.35%, Correct Counter: 9465/12236, Precision: 83.81%, Recall:  71.31% \n",
            "\n",
            "Train Metrics:  {1: {'Average Loss': 0.6074008041406154, 'Correct': 32853, 'Accuracy': 0.6712639450778473, 'Precision': 0.7011813929499757, 'Recall': 0.7226892543182554, 'Size': 48942}, 2: {'Average Loss': 0.5714056705513669, 'Correct': 34669, 'Accuracy': 0.708369089943198, 'Precision': 0.7411895272665718, 'Recall': 0.6983863472342531, 'Size': 48942}, 3: {'Average Loss': 0.5654482043158228, 'Correct': 34921, 'Accuracy': 0.7135180417637204, 'Precision': 0.7467167433244083, 'Recall': 0.7016999022909188, 'Size': 48942}, 4: {'Average Loss': 0.557280373005292, 'Correct': 35179, 'Accuracy': 0.7187895876752074, 'Precision': 0.756191747011044, 'Recall': 0.701196665363026, 'Size': 48942}, 5: {'Average Loss': 0.5443872817569776, 'Correct': 35693, 'Accuracy': 0.7292918148011932, 'Precision': 0.7674996010093883, 'Recall': 0.7072370789329809, 'Size': 48942}, 6: {'Average Loss': 0.5360611396525479, 'Correct': 35941, 'Accuracy': 0.734359037227739, 'Precision': 0.7725321522076374, 'Recall': 0.7116526271066759, 'Size': 48942}, 7: {'Average Loss': 0.5286593617828246, 'Correct': 36160, 'Accuracy': 0.7388337215479547, 'Precision': 0.7785991443058637, 'Recall': 0.7152087873213988, 'Size': 48942}, 8: {'Average Loss': 0.5252927332991092, 'Correct': 36254, 'Accuracy': 0.7407543623064035, 'Precision': 0.7786981225842067, 'Recall': 0.7177901740796543, 'Size': 48942}, 9: {'Average Loss': 0.5210117971272118, 'Correct': 36335, 'Accuracy': 0.7424093825344285, 'Precision': 0.7806971179218024, 'Recall': 0.7179791962556125, 'Size': 48942}, 10: {'Average Loss': 0.5174929636099873, 'Correct': 36470, 'Accuracy': 0.7451677495811369, 'Precision': 0.7837235569943412, 'Recall': 0.7189477916631688, 'Size': 48942}, 11: {'Average Loss': 0.5136551539960565, 'Correct': 36551, 'Accuracy': 0.7468227698091618, 'Precision': 0.7856610747140483, 'Recall': 0.723549408993097, 'Size': 48942}, 12: {'Average Loss': 0.5074501051627437, 'Correct': 36813, 'Accuracy': 0.7521760451146254, 'Precision': 0.7901976607169647, 'Recall': 0.7292778621945634, 'Size': 48942}, 13: {'Average Loss': 0.5058480414316947, 'Correct': 36821, 'Accuracy': 0.7523395039025785, 'Precision': 0.7926986658993669, 'Recall': 0.7249727357508813, 'Size': 48942}, 14: {'Average Loss': 0.50390625, 'Correct': 36855, 'Accuracy': 0.7530342037513792, 'Precision': 0.7902077269385945, 'Recall': 0.7300746332712997, 'Size': 48942}, 15: {'Average Loss': 0.49857121216184463, 'Correct': 37057, 'Accuracy': 0.7571615381471947, 'Precision': 0.7910015569796661, 'Recall': 0.7399575980777402, 'Size': 48942}, 16: {'Average Loss': 0.4932245614068694, 'Correct': 37273, 'Accuracy': 0.761574925421928, 'Precision': 0.7973637080345355, 'Recall': 0.7410357231674367, 'Size': 48942}, 17: {'Average Loss': 0.4877375180698582, 'Correct': 37450, 'Accuracy': 0.7651914511053901, 'Precision': 0.7988397074930697, 'Recall': 0.7499716080286788, 'Size': 48942}, 18: {'Average Loss': 0.48446722491673816, 'Correct': 37452, 'Accuracy': 0.7652323158023783, 'Precision': 0.7989197989716956, 'Recall': 0.7478277790071625, 'Size': 48942}, 19: {'Average Loss': 0.4786046972692166, 'Correct': 37801, 'Accuracy': 0.7723632054268318, 'Precision': 0.8076375682990249, 'Recall': 0.7498136882497778, 'Size': 48942}, 20: {'Average Loss': 0.4756307529831229, 'Correct': 37783, 'Accuracy': 0.7719954231539373, 'Precision': 0.8063640188735991, 'Recall': 0.7528762491498464, 'Size': 48942}}\n",
            "Validation Metrics {1: {'Average Loss': 0.5668662383923464, 'Correct': 8760, 'Accuracy': 0.7159202353710363, 'Precision': 0.7359536230984209, 'Recall': 0.727060964420108, 'Size': 12236}, 2: {'Average Loss': 0.5561637566657813, 'Correct': 8819, 'Accuracy': 0.7207420725727361, 'Precision': 0.7498568997476397, 'Recall': 0.7088367975354978, 'Size': 12236}, 3: {'Average Loss': 0.5960660237976054, 'Correct': 8324, 'Accuracy': 0.6802876757110167, 'Precision': 0.8504842043142619, 'Recall': 0.4845273575289991, 'Size': 12236}, 4: {'Average Loss': 0.5624327595696101, 'Correct': 8822, 'Accuracy': 0.7209872507355345, 'Precision': 0.713174124198741, 'Recall': 0.7965199428842279, 'Size': 12236}, 5: {'Average Loss': 0.529459848244933, 'Correct': 8973, 'Accuracy': 0.7333278849297156, 'Precision': 0.7329336079991933, 'Recall': 0.7827773247608835, 'Size': 12236}, 6: {'Average Loss': 0.5197155326750981, 'Correct': 9095, 'Accuracy': 0.7432984635501798, 'Precision': 0.7799390044410478, 'Recall': 0.7211100100440581, 'Size': 12236}, 7: {'Average Loss': 0.5222205479731938, 'Correct': 9089, 'Accuracy': 0.7428081072245832, 'Precision': 0.8190836770243884, 'Recall': 0.6621232028383305, 'Size': 12236}, 8: {'Average Loss': 0.5162760948737333, 'Correct': 9156, 'Accuracy': 0.7482837528604119, 'Precision': 0.7877097114640979, 'Recall': 0.7193400508023736, 'Size': 12236}, 9: {'Average Loss': 0.5039208154344761, 'Correct': 9212, 'Accuracy': 0.7528604118993135, 'Precision': 0.7877622623039758, 'Recall': 0.731950781525568, 'Size': 12236}, 10: {'Average Loss': 0.5144934453150539, 'Correct': 9151, 'Accuracy': 0.7478751225890814, 'Precision': 0.7745671160660994, 'Recall': 0.738476872108199, 'Size': 12236}, 11: {'Average Loss': 0.5076346021728915, 'Correct': 9149, 'Accuracy': 0.7477116704805492, 'Precision': 0.782719633975064, 'Recall': 0.7289418100423348, 'Size': 12236}, 12: {'Average Loss': 0.5208730657103016, 'Correct': 9144, 'Accuracy': 0.7473030402092187, 'Precision': 0.733698543238449, 'Recall': 0.821376490461349, 'Size': 12236}, 13: {'Average Loss': 0.5013187903522393, 'Correct': 9219, 'Accuracy': 0.7534324942791762, 'Precision': 0.8351756461996012, 'Recall': 0.6681114961677261, 'Size': 12236}, 14: {'Average Loss': 0.5086230165469721, 'Correct': 9185, 'Accuracy': 0.7506538084341288, 'Precision': 0.7559895763318454, 'Recall': 0.7841801366590906, 'Size': 12236}, 15: {'Average Loss': 0.4894338347780116, 'Correct': 9276, 'Accuracy': 0.7580908793723439, 'Precision': 0.7501769145031453, 'Recall': 0.8144343720402953, 'Size': 12236}, 16: {'Average Loss': 0.48718972033088837, 'Correct': 9296, 'Accuracy': 0.7597254004576659, 'Precision': 0.7755757789625652, 'Recall': 0.7707133046316474, 'Size': 12236}, 17: {'Average Loss': 0.4883170849593413, 'Correct': 9399, 'Accuracy': 0.7681431840470742, 'Precision': 0.8055391007819558, 'Recall': 0.7442846714855786, 'Size': 12236}, 18: {'Average Loss': 0.48050538306533996, 'Correct': 9397, 'Accuracy': 0.767979731938542, 'Precision': 0.8518259181896226, 'Recall': 0.6821556442305564, 'Size': 12236}, 19: {'Average Loss': 0.47196042128504007, 'Correct': 9427, 'Accuracy': 0.7704315135665251, 'Precision': 0.8348583311969155, 'Recall': 0.7096163269983701, 'Size': 12236}, 20: {'Average Loss': 0.4678488585168764, 'Correct': 9465, 'Accuracy': 0.7735371036286368, 'Precision': 0.8381318179117853, 'Recall': 0.7130842738105319, 'Size': 12236}}\n"
          ]
        },
        {
          "output_type": "stream",
          "name": "stderr",
          "text": [
            "\n"
          ]
        }
      ]
    },
    {
      "cell_type": "code",
      "source": [
        "epochs = [i for i in range(20)]\n",
        "train = [( metrics[0][i][\"Average Loss\"]  ) for i in metrics[0]]\n",
        "val = [( metrics[1][i][\"Average Loss\"]  ) for i in metrics[0]]\n",
        "plt.plot(epochs, train, label = \"Train\")\n",
        "plt.plot(epochs, val, label = \"Validation\")\n",
        "plt.xlabel(\"Epochs\")\n",
        "plt.ylabel(\"Loss\")\n",
        "plt.legend()"
      ],
      "metadata": {
        "colab": {
          "base_uri": "https://localhost:8080/",
          "height": 296
        },
        "id": "-NAgWnIoWnQd",
        "outputId": "6d5b30bb-cca1-4d55-af28-2a3723382ed5"
      },
      "execution_count": 146,
      "outputs": [
        {
          "output_type": "execute_result",
          "data": {
            "text/plain": [
              "<matplotlib.legend.Legend at 0x7fdc6aff3d90>"
            ]
          },
          "metadata": {},
          "execution_count": 146
        },
        {
          "output_type": "display_data",
          "data": {
            "image/png": "[encoded data removed]",
            "text/plain": [
              "<Figure size 432x288 with 1 Axes>"
            ]
          },
          "metadata": {
            "needs_background": "light"
          }
        }
      ]
    },
    {
      "cell_type": "code",
      "source": [
        "#Trained Model \n",
        "model = getModel()\n",
        "model.load_state_dict(torch.load(\"/content/drive/My Drive/Untitled folder/NonPreTrained.pth\"))"
      ],
      "metadata": {
        "colab": {
          "base_uri": "https://localhost:8080/"
        },
        "id": "a2DFhibI8eTI",
        "outputId": "05bd623e-8958-4cfa-de16-05a41042d860"
      },
      "execution_count": 201,
      "outputs": [
        {
          "output_type": "execute_result",
          "data": {
            "text/plain": [
              "<All keys matched successfully>"
            ]
          },
          "metadata": {},
          "execution_count": 201
        }
      ]
    },
    {
      "cell_type": "code",
      "source": [
        "model.train()\n",
        "optimizer = torch.optim.Adam(model.to(device).parameters())\n",
        "metrics = test(model, test_loader, device)"
      ],
      "metadata": {
        "colab": {
          "base_uri": "https://localhost:8080/"
        },
        "id": "NwooEE54w94P",
        "outputId": "8b82da56-7893-40d1-97cc-7b05e16c3837"
      },
      "execution_count": 217,
      "outputs": [
        {
          "output_type": "stream",
          "name": "stderr",
          "text": [
            "Batch in Progress: 100%|██████████████████████████████████████████| 478/478 [01:04<00:00,  7.38it/s]"
          ]
        },
        {
          "output_type": "stream",
          "name": "stdout",
          "text": [
            "prec 401.03459295038607\n"
          ]
        },
        {
          "output_type": "stream",
          "name": "stderr",
          "text": [
            "\n"
          ]
        }
      ]
    },
    {
      "cell_type": "code",
      "source": [
        "metrics"
      ],
      "metadata": {
        "colab": {
          "base_uri": "https://localhost:8080/"
        },
        "id": "pifKtVTzxFoL",
        "outputId": "56601f2c-856a-48e0-9737-ebf8afd43a2d"
      },
      "execution_count": 218,
      "outputs": [
        {
          "output_type": "execute_result",
          "data": {
            "text/plain": [
              "{'Accuracy': 0.7765136654897346,\n",
              " 'Average Loss': 14.874454514252092,\n",
              " 'Correct': 11876,\n",
              " 'Precision': 0.8389845040803056,\n",
              " 'Recall': 0.7163730877286565,\n",
              " 'Size': 15294}"
            ]
          },
          "metadata": {},
          "execution_count": 218
        }
      ]
    },
    {
      "cell_type": "code",
      "source": [
        "#torch.save(model.state_dict(), \"/content/drive/My Drive/Untitled folder/NonPreTrained.pth\")"
      ],
      "metadata": {
        "id": "kp07c205lcWu"
      },
      "execution_count": 150,
      "outputs": []
    },
    {
      "cell_type": "code",
      "source": [
        "# Resnet18\n",
        "net = resnet18(pretrained = True)\n",
        "\n",
        "num_ftrs = net.fc.in_features\n",
        "net.fc = nn.Linear(num_ftrs, 1)"
      ],
      "metadata": {
        "id": "bfTK7jMGO04j"
      },
      "execution_count": 225,
      "outputs": []
    },
    {
      "cell_type": "code",
      "source": [
        "test_abs = int(len(train_set) * 0.8)\n",
        "train_subset, val_subset = random_split(\n",
        "train_set, [test_abs, len(train_set) - test_abs])"
      ],
      "metadata": {
        "id": "kMM9hh1zSxUA"
      },
      "execution_count": 152,
      "outputs": []
    },
    {
      "cell_type": "code",
      "execution_count": 71,
      "metadata": {
        "id": "q_UTLcckOPN8",
        "colab": {
          "base_uri": "https://localhost:8080/"
        },
        "outputId": "77765156-dbf6-4411-f172-bd3b94d09075"
      },
      "outputs": [
        {
          "output_type": "stream",
          "name": "stdout",
          "text": [
            "Beginning Training: \n",
            "\n",
            "Epoch 1/20\n"
          ]
        },
        {
          "output_type": "stream",
          "name": "stderr",
          "text": [
            "Batch in Progress:   0%|                                                    | 0/765 [00:00<?, ?it/s]/usr/local/lib/python3.7/dist-packages/sklearn/metrics/_classification.py:1318: UndefinedMetricWarning: Precision is ill-defined and being set to 0.0 due to no predicted samples. Use `zero_division` parameter to control this behavior.\n",
            "  _warn_prf(average, modifier, msg_start, len(result))\n",
            "Batch in Progress: 100%|██████████████████████████████████████████| 765/765 [03:19<00:00,  3.84it/s]\n"
          ]
        },
        {
          "output_type": "stream",
          "name": "stdout",
          "text": [
            "Train Set: \n",
            "Loss: 0.441404, Accuracy: 79.03%, Correct Counter: 38680/48942, Precision: 82.47%, Recall:  77.00% \n",
            "\n"
          ]
        },
        {
          "output_type": "stream",
          "name": "stderr",
          "text": [
            "Batch in Progress: 100%|██████████████████████████████████████████| 192/192 [01:14<00:00,  2.58it/s]\n"
          ]
        },
        {
          "output_type": "stream",
          "name": "stdout",
          "text": [
            "Validation Set: \n",
            "Loss: 0.402652, Accuracy: 81.06%, Correct Counter: 9919/12236, Precision: 80.54%, Recall:  84.48% \n",
            "\n",
            "Epoch 2/20\n"
          ]
        },
        {
          "output_type": "stream",
          "name": "stderr",
          "text": [
            "Batch in Progress: 100%|██████████████████████████████████████████| 765/765 [03:18<00:00,  3.86it/s]\n"
          ]
        },
        {
          "output_type": "stream",
          "name": "stdout",
          "text": [
            "Train Set: \n",
            "Loss: 0.404588, Accuracy: 81.03%, Correct Counter: 39656/48942, Precision: 84.36%, Recall:  79.10% \n",
            "\n"
          ]
        },
        {
          "output_type": "stream",
          "name": "stderr",
          "text": [
            "Batch in Progress: 100%|██████████████████████████████████████████| 192/192 [01:14<00:00,  2.57it/s]\n"
          ]
        },
        {
          "output_type": "stream",
          "name": "stdout",
          "text": [
            "Validation Set: \n",
            "Loss: 0.442077, Accuracy: 79.01%, Correct Counter: 9668/12236, Precision: 93.05%, Recall:  64.92% \n",
            "\n",
            "Epoch 3/20\n"
          ]
        },
        {
          "output_type": "stream",
          "name": "stderr",
          "text": [
            "Batch in Progress: 100%|██████████████████████████████████████████| 765/765 [03:21<00:00,  3.80it/s]\n"
          ]
        },
        {
          "output_type": "stream",
          "name": "stdout",
          "text": [
            "Train Set: \n",
            "Loss: 0.387044, Accuracy: 81.83%, Correct Counter: 40051/48942, Precision: 85.03%, Recall:  80.02% \n",
            "\n"
          ]
        },
        {
          "output_type": "stream",
          "name": "stderr",
          "text": [
            "Batch in Progress: 100%|██████████████████████████████████████████| 192/192 [01:15<00:00,  2.55it/s]\n"
          ]
        },
        {
          "output_type": "stream",
          "name": "stdout",
          "text": [
            "Validation Set: \n",
            "Loss: 0.399441, Accuracy: 81.02%, Correct Counter: 9913/12236, Precision: 81.13%, Recall:  83.13% \n",
            "\n",
            "Epoch 4/20\n"
          ]
        },
        {
          "output_type": "stream",
          "name": "stderr",
          "text": [
            "Batch in Progress: 100%|██████████████████████████████████████████| 765/765 [03:20<00:00,  3.82it/s]\n"
          ]
        },
        {
          "output_type": "stream",
          "name": "stdout",
          "text": [
            "Train Set: \n",
            "Loss: 0.373469, Accuracy: 82.80%, Correct Counter: 40522/48942, Precision: 85.64%, Recall:  81.35% \n",
            "\n"
          ]
        },
        {
          "output_type": "stream",
          "name": "stderr",
          "text": [
            "Batch in Progress: 100%|██████████████████████████████████████████| 192/192 [01:15<00:00,  2.54it/s]\n"
          ]
        },
        {
          "output_type": "stream",
          "name": "stdout",
          "text": [
            "Validation Set: \n",
            "Loss: 0.427470, Accuracy: 79.81%, Correct Counter: 9765/12236, Precision: 76.66%, Recall:  88.65% \n",
            "\n",
            "Epoch 5/20\n"
          ]
        },
        {
          "output_type": "stream",
          "name": "stderr",
          "text": [
            "Batch in Progress: 100%|██████████████████████████████████████████| 765/765 [03:24<00:00,  3.74it/s]\n"
          ]
        },
        {
          "output_type": "stream",
          "name": "stdout",
          "text": [
            "Train Set: \n",
            "Loss: 0.359067, Accuracy: 83.60%, Correct Counter: 40916/48942, Precision: 86.21%, Recall:  82.33% \n",
            "\n"
          ]
        },
        {
          "output_type": "stream",
          "name": "stderr",
          "text": [
            "Batch in Progress: 100%|██████████████████████████████████████████| 192/192 [01:15<00:00,  2.55it/s]\n"
          ]
        },
        {
          "output_type": "stream",
          "name": "stdout",
          "text": [
            "Validation Set: \n",
            "Loss: 0.404201, Accuracy: 80.16%, Correct Counter: 9808/12236, Precision: 77.42%, Recall:  87.99% \n",
            "\n",
            "Epoch 6/20\n"
          ]
        },
        {
          "output_type": "stream",
          "name": "stderr",
          "text": [
            "Batch in Progress: 100%|██████████████████████████████████████████| 765/765 [03:21<00:00,  3.80it/s]\n"
          ]
        },
        {
          "output_type": "stream",
          "name": "stdout",
          "text": [
            "Train Set: \n",
            "Loss: 0.332148, Accuracy: 84.98%, Correct Counter: 41592/48942, Precision: 87.23%, Recall:  84.10% \n",
            "\n"
          ]
        },
        {
          "output_type": "stream",
          "name": "stderr",
          "text": [
            "Batch in Progress: 100%|██████████████████████████████████████████| 192/192 [01:14<00:00,  2.59it/s]\n"
          ]
        },
        {
          "output_type": "stream",
          "name": "stdout",
          "text": [
            "Validation Set: \n",
            "Loss: 0.391558, Accuracy: 82.10%, Correct Counter: 10046/12236, Precision: 86.57%, Recall:  78.03% \n",
            "\n",
            "Epoch 7/20\n"
          ]
        },
        {
          "output_type": "stream",
          "name": "stderr",
          "text": [
            "Batch in Progress: 100%|██████████████████████████████████████████| 765/765 [03:22<00:00,  3.78it/s]\n"
          ]
        },
        {
          "output_type": "stream",
          "name": "stdout",
          "text": [
            "Train Set: \n",
            "Loss: 0.284492, Accuracy: 87.42%, Correct Counter: 42785/48942, Precision: 88.97%, Recall:  87.24% \n",
            "\n"
          ]
        },
        {
          "output_type": "stream",
          "name": "stderr",
          "text": [
            "Batch in Progress: 100%|██████████████████████████████████████████| 192/192 [01:14<00:00,  2.59it/s]\n"
          ]
        },
        {
          "output_type": "stream",
          "name": "stdout",
          "text": [
            "Validation Set: \n",
            "Loss: 0.437009, Accuracy: 80.13%, Correct Counter: 9805/12236, Precision: 83.53%, Recall:  77.52% \n",
            "\n",
            "Epoch 8/20\n"
          ]
        },
        {
          "output_type": "stream",
          "name": "stderr",
          "text": [
            "Batch in Progress: 100%|██████████████████████████████████████████| 765/765 [03:19<00:00,  3.83it/s]\n"
          ]
        },
        {
          "output_type": "stream",
          "name": "stdout",
          "text": [
            "Train Set: \n",
            "Loss: 0.197701, Accuracy: 91.82%, Correct Counter: 44940/48942, Precision: 92.40%, Recall:  92.23% \n",
            "\n"
          ]
        },
        {
          "output_type": "stream",
          "name": "stderr",
          "text": [
            "Batch in Progress: 100%|██████████████████████████████████████████| 192/192 [01:14<00:00,  2.59it/s]\n"
          ]
        },
        {
          "output_type": "stream",
          "name": "stdout",
          "text": [
            "Validation Set: \n",
            "Loss: 0.514909, Accuracy: 78.89%, Correct Counter: 9653/12236, Precision: 78.08%, Recall:  83.34% \n",
            "\n",
            "Epoch 9/20\n"
          ]
        },
        {
          "output_type": "stream",
          "name": "stderr",
          "text": [
            "Batch in Progress: 100%|██████████████████████████████████████████| 765/765 [03:19<00:00,  3.83it/s]\n"
          ]
        },
        {
          "output_type": "stream",
          "name": "stdout",
          "text": [
            "Train Set: \n",
            "Loss: 0.120747, Accuracy: 95.25%, Correct Counter: 46616/48942, Precision: 95.45%, Recall:  95.66% \n",
            "\n"
          ]
        },
        {
          "output_type": "stream",
          "name": "stderr",
          "text": [
            "Batch in Progress: 100%|██████████████████████████████████████████| 192/192 [01:14<00:00,  2.59it/s]\n"
          ]
        },
        {
          "output_type": "stream",
          "name": "stdout",
          "text": [
            "Validation Set: \n",
            "Loss: 0.666588, Accuracy: 80.00%, Correct Counter: 9789/12236, Precision: 81.30%, Recall:  80.52% \n",
            "\n",
            "Epoch 10/20\n"
          ]
        },
        {
          "output_type": "stream",
          "name": "stderr",
          "text": [
            "Batch in Progress: 100%|██████████████████████████████████████████| 765/765 [03:19<00:00,  3.83it/s]\n"
          ]
        },
        {
          "output_type": "stream",
          "name": "stdout",
          "text": [
            "Train Set: \n",
            "Loss: 0.079962, Accuracy: 96.96%, Correct Counter: 47453/48942, Precision: 96.96%, Recall:  97.31% \n",
            "\n"
          ]
        },
        {
          "output_type": "stream",
          "name": "stderr",
          "text": [
            "Batch in Progress: 100%|██████████████████████████████████████████| 192/192 [01:13<00:00,  2.60it/s]\n"
          ]
        },
        {
          "output_type": "stream",
          "name": "stdout",
          "text": [
            "Validation Set: \n",
            "Loss: 0.678245, Accuracy: 79.05%, Correct Counter: 9672/12236, Precision: 81.78%, Recall:  77.54% \n",
            "\n",
            "Epoch 11/20\n"
          ]
        },
        {
          "output_type": "stream",
          "name": "stderr",
          "text": [
            "Batch in Progress: 100%|██████████████████████████████████████████| 765/765 [03:19<00:00,  3.84it/s]\n"
          ]
        },
        {
          "output_type": "stream",
          "name": "stdout",
          "text": [
            "Train Set: \n",
            "Loss: 0.055957, Accuracy: 98.00%, Correct Counter: 47965/48942, Precision: 98.01%, Recall:  98.22% \n",
            "\n"
          ]
        },
        {
          "output_type": "stream",
          "name": "stderr",
          "text": [
            "Batch in Progress: 100%|██████████████████████████████████████████| 192/192 [01:14<00:00,  2.57it/s]\n"
          ]
        },
        {
          "output_type": "stream",
          "name": "stdout",
          "text": [
            "Validation Set: \n",
            "Loss: 0.854216, Accuracy: 79.41%, Correct Counter: 9717/12236, Precision: 81.14%, Recall:  79.60% \n",
            "\n",
            "Epoch 12/20\n"
          ]
        },
        {
          "output_type": "stream",
          "name": "stderr",
          "text": [
            "Batch in Progress: 100%|██████████████████████████████████████████| 765/765 [03:22<00:00,  3.77it/s]\n"
          ]
        },
        {
          "output_type": "stream",
          "name": "stdout",
          "text": [
            "Train Set: \n",
            "Loss: 0.049577, Accuracy: 98.13%, Correct Counter: 48029/48942, Precision: 98.12%, Recall:  98.36% \n",
            "\n"
          ]
        },
        {
          "output_type": "stream",
          "name": "stderr",
          "text": [
            "Batch in Progress: 100%|██████████████████████████████████████████| 192/192 [01:15<00:00,  2.54it/s]\n"
          ]
        },
        {
          "output_type": "stream",
          "name": "stdout",
          "text": [
            "Validation Set: \n",
            "Loss: 0.985830, Accuracy: 79.39%, Correct Counter: 9714/12236, Precision: 82.99%, Recall:  76.67% \n",
            "\n",
            "Epoch 13/20\n"
          ]
        },
        {
          "output_type": "stream",
          "name": "stderr",
          "text": [
            "Batch in Progress: 100%|██████████████████████████████████████████| 765/765 [03:24<00:00,  3.73it/s]\n"
          ]
        },
        {
          "output_type": "stream",
          "name": "stdout",
          "text": [
            "Train Set: \n",
            "Loss: 0.042743, Accuracy: 98.44%, Correct Counter: 48179/48942, Precision: 98.45%, Recall:  98.62% \n",
            "\n"
          ]
        },
        {
          "output_type": "stream",
          "name": "stderr",
          "text": [
            "Batch in Progress: 100%|██████████████████████████████████████████| 192/192 [01:16<00:00,  2.53it/s]\n"
          ]
        },
        {
          "output_type": "stream",
          "name": "stdout",
          "text": [
            "Validation Set: \n",
            "Loss: 0.960125, Accuracy: 79.09%, Correct Counter: 9677/12236, Precision: 79.53%, Recall:  81.34% \n",
            "\n",
            "Epoch 14/20\n"
          ]
        },
        {
          "output_type": "stream",
          "name": "stderr",
          "text": [
            "Batch in Progress: 100%|██████████████████████████████████████████| 765/765 [03:26<00:00,  3.71it/s]\n"
          ]
        },
        {
          "output_type": "stream",
          "name": "stdout",
          "text": [
            "Train Set: \n",
            "Loss: 0.040023, Accuracy: 98.55%, Correct Counter: 48232/48942, Precision: 98.59%, Recall:  98.68% \n",
            "\n"
          ]
        },
        {
          "output_type": "stream",
          "name": "stderr",
          "text": [
            "Batch in Progress: 100%|██████████████████████████████████████████| 192/192 [01:16<00:00,  2.52it/s]\n"
          ]
        },
        {
          "output_type": "stream",
          "name": "stdout",
          "text": [
            "Validation Set: \n",
            "Loss: 1.040565, Accuracy: 79.78%, Correct Counter: 9762/12236, Precision: 83.14%, Recall:  77.15% \n",
            "\n",
            "Epoch 15/20\n"
          ]
        },
        {
          "output_type": "stream",
          "name": "stderr",
          "text": [
            "Batch in Progress: 100%|██████████████████████████████████████████| 765/765 [03:25<00:00,  3.72it/s]\n"
          ]
        },
        {
          "output_type": "stream",
          "name": "stdout",
          "text": [
            "Train Set: \n",
            "Loss: 0.035057, Accuracy: 98.72%, Correct Counter: 48316/48942, Precision: 98.72%, Recall:  98.84% \n",
            "\n"
          ]
        },
        {
          "output_type": "stream",
          "name": "stderr",
          "text": [
            "Batch in Progress: 100%|██████████████████████████████████████████| 192/192 [01:15<00:00,  2.53it/s]\n"
          ]
        },
        {
          "output_type": "stream",
          "name": "stdout",
          "text": [
            "Validation Set: \n",
            "Loss: 1.085368, Accuracy: 78.72%, Correct Counter: 9632/12236, Precision: 79.48%, Recall:  80.39% \n",
            "\n",
            "Epoch 16/20\n"
          ]
        },
        {
          "output_type": "stream",
          "name": "stderr",
          "text": [
            "Batch in Progress: 100%|██████████████████████████████████████████| 765/765 [03:26<00:00,  3.71it/s]\n"
          ]
        },
        {
          "output_type": "stream",
          "name": "stdout",
          "text": [
            "Train Set: \n",
            "Loss: 0.034219, Accuracy: 98.77%, Correct Counter: 48338/48942, Precision: 98.77%, Recall:  98.89% \n",
            "\n"
          ]
        },
        {
          "output_type": "stream",
          "name": "stderr",
          "text": [
            "Batch in Progress: 100%|██████████████████████████████████████████| 192/192 [01:14<00:00,  2.56it/s]\n"
          ]
        },
        {
          "output_type": "stream",
          "name": "stdout",
          "text": [
            "Validation Set: \n",
            "Loss: 0.974616, Accuracy: 78.50%, Correct Counter: 9605/12236, Precision: 82.52%, Recall:  75.14% \n",
            "\n",
            "Epoch 17/20\n"
          ]
        },
        {
          "output_type": "stream",
          "name": "stderr",
          "text": [
            "Batch in Progress: 100%|██████████████████████████████████████████| 765/765 [03:25<00:00,  3.72it/s]\n"
          ]
        },
        {
          "output_type": "stream",
          "name": "stdout",
          "text": [
            "Train Set: \n",
            "Loss: 0.030586, Accuracy: 98.91%, Correct Counter: 48409/48942, Precision: 98.91%, Recall:  99.01% \n",
            "\n"
          ]
        },
        {
          "output_type": "stream",
          "name": "stderr",
          "text": [
            "Batch in Progress: 100%|██████████████████████████████████████████| 192/192 [01:16<00:00,  2.52it/s]\n"
          ]
        },
        {
          "output_type": "stream",
          "name": "stdout",
          "text": [
            "Validation Set: \n",
            "Loss: 1.073432, Accuracy: 76.54%, Correct Counter: 9365/12236, Precision: 80.63%, Recall:  73.02% \n",
            "\n",
            "Epoch 18/20\n"
          ]
        },
        {
          "output_type": "stream",
          "name": "stderr",
          "text": [
            "Batch in Progress: 100%|██████████████████████████████████████████| 765/765 [03:25<00:00,  3.73it/s]\n"
          ]
        },
        {
          "output_type": "stream",
          "name": "stdout",
          "text": [
            "Train Set: \n",
            "Loss: 0.029276, Accuracy: 98.93%, Correct Counter: 48417/48942, Precision: 98.93%, Recall:  99.03% \n",
            "\n"
          ]
        },
        {
          "output_type": "stream",
          "name": "stderr",
          "text": [
            "Batch in Progress: 100%|██████████████████████████████████████████| 192/192 [01:16<00:00,  2.52it/s]\n"
          ]
        },
        {
          "output_type": "stream",
          "name": "stdout",
          "text": [
            "Validation Set: \n",
            "Loss: 1.149651, Accuracy: 78.85%, Correct Counter: 9648/12236, Precision: 84.39%, Recall:  73.50% \n",
            "\n",
            "Epoch 19/20\n"
          ]
        },
        {
          "output_type": "stream",
          "name": "stderr",
          "text": [
            "Batch in Progress: 100%|██████████████████████████████████████████| 765/765 [03:27<00:00,  3.69it/s]\n"
          ]
        },
        {
          "output_type": "stream",
          "name": "stdout",
          "text": [
            "Train Set: \n",
            "Loss: 0.027443, Accuracy: 99.02%, Correct Counter: 48461/48942, Precision: 99.04%, Recall:  99.09% \n",
            "\n"
          ]
        },
        {
          "output_type": "stream",
          "name": "stderr",
          "text": [
            "Batch in Progress: 100%|██████████████████████████████████████████| 192/192 [01:15<00:00,  2.53it/s]\n"
          ]
        },
        {
          "output_type": "stream",
          "name": "stdout",
          "text": [
            "Validation Set: \n",
            "Loss: 1.103642, Accuracy: 77.84%, Correct Counter: 9524/12236, Precision: 75.65%, Recall:  85.30% \n",
            "\n",
            "Epoch 20/20\n"
          ]
        },
        {
          "output_type": "stream",
          "name": "stderr",
          "text": [
            "Batch in Progress: 100%|██████████████████████████████████████████| 765/765 [03:24<00:00,  3.74it/s]\n"
          ]
        },
        {
          "output_type": "stream",
          "name": "stdout",
          "text": [
            "Train Set: \n",
            "Loss: 0.027006, Accuracy: 99.02%, Correct Counter: 48460/48942, Precision: 99.02%, Recall:  99.13% \n",
            "\n"
          ]
        },
        {
          "output_type": "stream",
          "name": "stderr",
          "text": [
            "Batch in Progress: 100%|██████████████████████████████████████████| 192/192 [01:16<00:00,  2.52it/s]"
          ]
        },
        {
          "output_type": "stream",
          "name": "stdout",
          "text": [
            "Validation Set: \n",
            "Loss: 1.036054, Accuracy: 77.64%, Correct Counter: 9500/12236, Precision: 78.81%, Recall:  78.75% \n",
            "\n",
            "Train Metrics:  {1: {'Average Loss': 21603.189453125, 'Correct': 38680, 'Accuracy': 0.7903232397531772, 'Precision': 0.8246918169968467, 'Recall': 0.7700030289818087, 'Size': 48942}, 2: {'Average Loss': 19801.33203125, 'Correct': 39656, 'Accuracy': 0.8102652118834539, 'Precision': 0.8435654010313657, 'Recall': 0.7909830678521437, 'Size': 48942}, 3: {'Average Loss': 18942.724609375, 'Correct': 40051, 'Accuracy': 0.8183359895386376, 'Precision': 0.8502880173384535, 'Recall': 0.8002410356561513, 'Size': 48942}, 4: {'Average Loss': 18278.322265625, 'Correct': 40522, 'Accuracy': 0.8279596256793755, 'Precision': 0.8563855902033886, 'Recall': 0.81350343354764, 'Size': 48942}, 5: {'Average Loss': 17573.4609375, 'Correct': 40916, 'Accuracy': 0.8360099709860651, 'Precision': 0.8621105777324984, 'Recall': 0.8232513259882775, 'Size': 48942}, 6: {'Average Loss': 16256.001953125, 'Correct': 41592, 'Accuracy': 0.849822238568101, 'Precision': 0.872338981846267, 'Recall': 0.8409536200742093, 'Size': 48942}, 7: {'Average Loss': 13923.5888671875, 'Correct': 42785, 'Accuracy': 0.8741980303216051, 'Precision': 0.8897134314616337, 'Recall': 0.8724016058451255, 'Size': 48942}, 8: {'Average Loss': 9675.869140625, 'Correct': 44940, 'Accuracy': 0.9182297413264681, 'Precision': 0.9240223178580623, 'Recall': 0.9222737401036258, 'Size': 48942}, 9: {'Average Loss': 5909.62109375, 'Correct': 46616, 'Accuracy': 0.9524743574026399, 'Precision': 0.9544752548740957, 'Recall': 0.9565892249170401, 'Size': 48942}, 10: {'Average Loss': 3913.480712890625, 'Correct': 47453, 'Accuracy': 0.9695762330922316, 'Precision': 0.96959109719059, 'Recall': 0.973144048312587, 'Size': 48942}, 11: {'Average Loss': 2738.635498046875, 'Correct': 47965, 'Accuracy': 0.9800375955212293, 'Precision': 0.9800920620307585, 'Recall': 0.9822320428704003, 'Size': 48942}, 12: {'Average Loss': 2426.397705078125, 'Correct': 48029, 'Accuracy': 0.9813452658248539, 'Precision': 0.9811833752438395, 'Recall': 0.9835685768326446, 'Size': 48942}, 13: {'Average Loss': 2091.92626953125, 'Correct': 48179, 'Accuracy': 0.9844101180989743, 'Precision': 0.9844921051756613, 'Recall': 0.9862355264082222, 'Size': 48942}, 14: {'Average Loss': 1958.7886962890625, 'Correct': 48232, 'Accuracy': 0.9854930325691635, 'Precision': 0.9859358694002889, 'Recall': 0.9868347930309307, 'Size': 48942}, 15: {'Average Loss': 1715.763671875, 'Correct': 48316, 'Accuracy': 0.987209349842671, 'Precision': 0.9872087061219749, 'Recall': 0.9883815332021189, 'Size': 48942}, 16: {'Average Loss': 1674.73486328125, 'Correct': 48338, 'Accuracy': 0.9876588615095419, 'Precision': 0.9877484859020551, 'Recall': 0.9889145260023805, 'Size': 48942}, 17: {'Average Loss': 1496.94091796875, 'Correct': 48409, 'Accuracy': 0.9891095582526256, 'Precision': 0.9891064592302379, 'Recall': 0.9901149457509961, 'Size': 48942}, 18: {'Average Loss': 1432.8096923828125, 'Correct': 48417, 'Accuracy': 0.9892730170405787, 'Precision': 0.9892684444666665, 'Recall': 0.9903299302000602, 'Size': 48942}, 19: {'Average Loss': 1343.1363525390625, 'Correct': 48461, 'Accuracy': 0.9901720403743206, 'Precision': 0.9904428976422097, 'Recall': 0.9908944152015268, 'Size': 48942}, 20: {'Average Loss': 1321.7198486328125, 'Correct': 48460, 'Accuracy': 0.9901516080258265, 'Precision': 0.9901583552393713, 'Recall': 0.9913052925585941, 'Size': 48942}}\n",
            "Validation Metrics {1: {'Average Loss': 4926.849609375, 'Correct': 9919, 'Accuracy': 0.8106407322654462, 'Precision': 0.8053588958963908, 'Recall': 0.8447741323146833, 'Size': 12236}, 2: {'Average Loss': 5409.2578125, 'Correct': 9668, 'Accuracy': 0.7901274926446551, 'Precision': 0.930514801214675, 'Recall': 0.6491587668163652, 'Size': 12236}, 3: {'Average Loss': 4887.5615234375, 'Correct': 9913, 'Accuracy': 0.8101503759398496, 'Precision': 0.811313694575731, 'Recall': 0.8312700056651684, 'Size': 12236}, 4: {'Average Loss': 5230.5283203125, 'Correct': 9765, 'Accuracy': 0.7980549199084668, 'Precision': 0.7666047337605378, 'Recall': 0.8865011705057783, 'Size': 12236}, 5: {'Average Loss': 4945.8017578125, 'Correct': 9808, 'Accuracy': 0.8015691402419092, 'Precision': 0.7742016721758579, 'Recall': 0.8798958673139645, 'Size': 12236}, 6: {'Average Loss': 4791.1083984375, 'Correct': 10046, 'Accuracy': 0.821019941157241, 'Precision': 0.8656684440095751, 'Recall': 0.7802862465074946, 'Size': 12236}, 7: {'Average Loss': 5347.24755859375, 'Correct': 9805, 'Accuracy': 0.8013239620791108, 'Precision': 0.8353347240850089, 'Recall': 0.7752113498378322, 'Size': 12236}, 8: {'Average Loss': 6300.42919921875, 'Correct': 9653, 'Accuracy': 0.7889016018306636, 'Precision': 0.7807626280544143, 'Recall': 0.83340310356781, 'Size': 12236}, 9: {'Average Loss': 8156.36474609375, 'Correct': 9789, 'Accuracy': 0.8000163452108532, 'Precision': 0.8130106942761376, 'Recall': 0.8051967550728781, 'Size': 12236}, 10: {'Average Loss': 8299.005859375, 'Correct': 9672, 'Accuracy': 0.7904543968617195, 'Precision': 0.8177661720427872, 'Recall': 0.7753818430195056, 'Size': 12236}, 11: {'Average Loss': 10452.1826171875, 'Correct': 9717, 'Accuracy': 0.7941320693036941, 'Precision': 0.8113722189390368, 'Recall': 0.7960122282744773, 'Size': 12236}, 12: {'Average Loss': 12062.6162109375, 'Correct': 9714, 'Accuracy': 0.7938868911408957, 'Precision': 0.8298596746079454, 'Recall': 0.7666501804048719, 'Size': 12236}, 13: {'Average Loss': 11748.0869140625, 'Correct': 9677, 'Accuracy': 0.79086302713305, 'Precision': 0.7952785566512716, 'Recall': 0.8134455800321999, 'Size': 12236}, 14: {'Average Loss': 12732.357421875, 'Correct': 9762, 'Accuracy': 0.7978097417456685, 'Precision': 0.8314257707231695, 'Recall': 0.7715323928820835, 'Size': 12236}, 15: {'Average Loss': 13280.568359375, 'Correct': 9632, 'Accuracy': 0.7871853546910755, 'Precision': 0.7947890959072467, 'Recall': 0.8039135387120063, 'Size': 12236}, 16: {'Average Loss': 11925.4052734375, 'Correct': 9605, 'Accuracy': 0.7849787512258908, 'Precision': 0.8251780246362627, 'Recall': 0.751430581632801, 'Size': 12236}, 17: {'Average Loss': 13134.5146484375, 'Correct': 9365, 'Accuracy': 0.7653644982020268, 'Precision': 0.8063353712270884, 'Recall': 0.7301655615481263, 'Size': 12236}, 18: {'Average Loss': 14067.1298828125, 'Correct': 9648, 'Accuracy': 0.7884929715593331, 'Precision': 0.8438770017926068, 'Recall': 0.7350458430282454, 'Size': 12236}, 19: {'Average Loss': 13504.158203125, 'Correct': 9524, 'Accuracy': 0.7783589408303367, 'Precision': 0.7565214553043381, 'Recall': 0.852997688246773, 'Size': 12236}, 20: {'Average Loss': 12677.1552734375, 'Correct': 9500, 'Accuracy': 0.7763975155279503, 'Precision': 0.788140373788008, 'Recall': 0.7875175243581762, 'Size': 12236}}\n"
          ]
        },
        {
          "output_type": "stream",
          "name": "stderr",
          "text": [
            "\n"
          ]
        }
      ],
      "source": [
        "# Train Resnet\n",
        "\n",
        "epoch = 20\n",
        "device = 'cuda'\n",
        "\n",
        "optimizer = torch.optim.Adam(net.to(device).parameters())\n",
        "metrics = train(net, optimizer, train_loader, val_loader, device, epoch)"
      ]
    },
    {
      "cell_type": "code",
      "source": [
        "net.load_state_dict(torch.load(\"/content/drive/My Drive/Untitled folder/resnetCNN.pth\"))"
      ],
      "metadata": {
        "colab": {
          "base_uri": "https://localhost:8080/"
        },
        "id": "9E8gPDvck5Yn",
        "outputId": "fd4a2638-308d-4fb2-e2e2-2c1d0445302a"
      },
      "execution_count": 226,
      "outputs": [
        {
          "output_type": "execute_result",
          "data": {
            "text/plain": [
              "<All keys matched successfully>"
            ]
          },
          "metadata": {},
          "execution_count": 226
        }
      ]
    },
    {
      "cell_type": "code",
      "source": [
        "epochs = [i for i in range(20)]\n",
        "train = [( metrics[0][i][\"Average Loss\"] / metrics[0][1][\"Size\"] ) for i in metrics[0]]\n",
        "val = [( metrics[1][i][\"Average Loss\"] / metrics[0][1][\"Size\"] ) for i in metrics[0]]\n",
        "plt.plot(epochs, train, label = \"Train\")\n",
        "plt.plot(epochs, val, label = \"Validation\")\n",
        "plt.xlabel(\"Epochs\")\n",
        "plt.ylabel(\"Loss\")\n",
        "plt.legend()"
      ],
      "metadata": {
        "colab": {
          "base_uri": "https://localhost:8080/",
          "height": 296
        },
        "id": "JJPU6NJXrXIf",
        "outputId": "36fff062-a442-473a-a1dd-f83ff4220dc2"
      },
      "execution_count": 115,
      "outputs": [
        {
          "output_type": "execute_result",
          "data": {
            "text/plain": [
              "<matplotlib.legend.Legend at 0x7fdd70ef7cd0>"
            ]
          },
          "metadata": {},
          "execution_count": 115
        },
        {
          "output_type": "display_data",
          "data": {
            "image/png": "[encoded data removed]",
            "text/plain": [
              "<Figure size 432x288 with 1 Axes>"
            ]
          },
          "metadata": {
            "needs_background": "light"
          }
        }
      ]
    },
    {
      "cell_type": "code",
      "source": [
        "net = net.cuda()\n",
        "net = net.eval()\n",
        "metrics_test = test(net, test_loader, device)"
      ],
      "metadata": {
        "colab": {
          "base_uri": "https://localhost:8080/"
        },
        "id": "qIVoWMR_ylEq",
        "outputId": "bd7eb32b-994f-43b0-9b6c-42a789687bdc"
      },
      "execution_count": 228,
      "outputs": [
        {
          "output_type": "stream",
          "name": "stderr",
          "text": [
            "Batch in Progress: 100%|██████████████████████████████████████████| 478/478 [01:02<00:00,  7.70it/s]"
          ]
        },
        {
          "output_type": "stream",
          "name": "stdout",
          "text": [
            "prec 379.6986965977444\n"
          ]
        },
        {
          "output_type": "stream",
          "name": "stderr",
          "text": [
            "\n"
          ]
        }
      ]
    },
    {
      "cell_type": "code",
      "source": [
        "metrics_test"
      ],
      "metadata": {
        "colab": {
          "base_uri": "https://localhost:8080/"
        },
        "id": "W87Mo5ldymXq",
        "outputId": "48b4edd4-98a3-490b-f819-ffcd16600d05"
      },
      "execution_count": 229,
      "outputs": [
        {
          "output_type": "execute_result",
          "data": {
            "text/plain": [
              "{'Accuracy': 0.7784098339217994,\n",
              " 'Average Loss': 33.70775447829498,\n",
              " 'Correct': 11905,\n",
              " 'Precision': 0.7943487376521849,\n",
              " 'Recall': 0.7887878828833395,\n",
              " 'Size': 15294}"
            ]
          },
          "metadata": {},
          "execution_count": 229
        }
      ]
    },
    {
      "cell_type": "code",
      "source": [
        "from torch import nn\n",
        "import torch.nn.functional as F\n",
        "\n",
        "def train_cifar(config, checkpoint_dir=None, data_dir=None):\n",
        "\n",
        "  device = 'cuda'\n",
        "\n",
        "  model = getModel()\n",
        "  \n",
        "  optimizer = torch.optim.Adam(model.to(device).parameters(), lr=config[\"lr\"])\n",
        "\n",
        "  trainset, testsest = load_data()\n",
        "  test_abs = int(len(trainset) * 0.8)\n",
        "  train_subset, val_subset = random_split(\n",
        "    trainset, [test_abs, len(trainset) - test_abs])\n",
        "\n",
        "  trainloader = torch.utils.data.DataLoader(\n",
        "      train_subset,\n",
        "      batch_size=int(config[\"batch_size\"]),\n",
        "      #batch_size = 64,\n",
        "      shuffle=True,\n",
        "      num_workers=2)\n",
        "  valloader = torch.utils.data.DataLoader(\n",
        "      val_subset,\n",
        "      batch_size=int(config[\"batch_size\"]),\n",
        "      #batch_size = 64,\n",
        "      shuffle=True,\n",
        "      num_workers=2)\n",
        "  \n",
        "  for epoch in range(10):  # loop over the dataset multiple times\n",
        "    running_loss = 0.0\n",
        "    epoch_steps = 0\n",
        "    for i, data in enumerate(trainloader, 0):\n",
        "      # get the inputs; data is a list of [inputs, labels]\n",
        "      inputs, labels = data\n",
        "      inputs, labels = inputs.to(device), labels.to(device)\n",
        "\n",
        "\n",
        "      logits = model(inputs)\n",
        "      labels = labels.float()\n",
        "      loss = F.binary_cross_entropy_with_logits(logits, labels.unsqueeze(1))\n",
        "      \n",
        "      optimizer.zero_grad()\n",
        "\n",
        "      loss.backward()\n",
        "      optimizer.step()\n",
        "\n",
        "      # print statistics\n",
        "      running_loss += loss.item()\n",
        "      epoch_steps += 1\n",
        "      if i % 2000 == 1999:  # print every 2000 mini-batches\n",
        "        print(\"[%d, %5d] loss: %.3f\" % (epoch + 1, i + 1,\n",
        "                                        running_loss / epoch_steps))\n",
        "        running_loss = 0.0\n",
        "\n",
        "      val_loss = 0.0\n",
        "      val_steps = 0\n",
        "      total = 0\n",
        "      correct = 0\n",
        "      for i, data in enumerate(valloader, 0):\n",
        "        with torch.no_grad():\n",
        "          inputs, labels = data\n",
        "          inputs, labels = inputs.to(device), labels.to(device)\n",
        "\n",
        "          labels = labels.float()\n",
        "\n",
        "          logits = model(inputs)\n",
        "          total += labels.size(0)\n",
        "          sig = map(binary_logits_prediction, logits.to('cpu').detach())\n",
        "          sig = torch.tensor(list(sig), device = device)\n",
        "          correct += (sig == labels).sum()\n",
        "\n",
        "          # _, predicted = torch.max(outputs.data, 1)\n",
        "          # total += labels.size(0)\n",
        "          # correct += (predicted == labels).sum().item()\n",
        "\n",
        "          loss = F.binary_cross_entropy_with_logits(logits, labels.unsqueeze(1))\n",
        "          val_loss += loss.cpu().numpy()\n",
        "          val_steps += 1\n",
        "\n",
        "    tune.report(loss=(val_loss / val_steps), accuracy=correct / total)\n"
      ],
      "metadata": {
        "id": "Nsj-7u0WRGuD"
      },
      "execution_count": null,
      "outputs": []
    },
    {
      "cell_type": "code",
      "source": [
        "# RayTune Optimization\n",
        "\n",
        "config = {\n",
        "  \"lr\": tune.loguniform(0.0001, 0.1),\n",
        "  \"batch_size\": tune.choice([2, 4, 8, 16, 32, 64])\n",
        "}\n",
        "scheduler = ASHAScheduler(\n",
        "  metric=\"loss\",\n",
        "  mode=\"min\",\n",
        "  max_t=10,\n",
        "  grace_period=1,\n",
        "  reduction_factor=2)\n",
        "reporter = CLIReporter (\n",
        "  # parameter_columns=[\"l1\", \"l2\", \"lr\", \"batch_size\"],\n",
        "  metric_columns=[\"loss\", \"accuracy\", \"training_iteration\"])\n",
        "\n",
        "result = tune.run(\n",
        "  partial(train_cifar),\n",
        "  resources_per_trial={\"cpu\": 1, \"gpu\": 1},\n",
        "  config=config,\n",
        "  num_samples=10,\n",
        "  scheduler=scheduler,\n",
        "  progress_reporter=reporter)\n",
        "\n",
        "best_trial = result.get_best_trial(\"loss\", \"min\", \"last\")\n",
        "print(\"Best trial config: {}\".format(best_trial.config))\n",
        "print(\"Best trial final validation loss: {}\".format(\n",
        "best_trial.last_result[\"loss\"]))\n",
        "print(\"Best trial final validation accuracy: {}\".format(\n",
        "best_trial.last_result[\"accuracy\"]))"
      ],
      "metadata": {
        "id": "PTKhlRLub7dQ"
      },
      "execution_count": null,
      "outputs": []
    },
    {
      "cell_type": "code",
      "source": [
        ""
      ],
      "metadata": {
        "id": "yqW12nhgygie"
      },
      "execution_count": null,
      "outputs": []
    }
  ],
  "metadata": {
    "kernelspec": {
      "display_name": "Python 3",
      "language": "python",
      "name": "python3"
    },
    "language_info": {
      "codemirror_mode": {
        "name": "ipython",
        "version": 3
      },
      "file_extension": ".py",
      "mimetype": "text/x-python",
      "name": "python",
      "nbconvert_exporter": "python",
      "pygments_lexer": "ipython3",
      "version": "3.8.3"
    },
    "colab": {
      "name": "project.ipynb",
      "provenance": [],
      "collapsed_sections": []
    },
    "accelerator": "GPU"
  },
  "nbformat": 4,
  "nbformat_minor": 0
}